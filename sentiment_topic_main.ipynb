{
 "cells": [
  {
   "cell_type": "markdown",
   "id": "a835c8c0",
   "metadata": {},
   "source": [
    "# 1\\) Sentiment Analysis"
   ]
  },
  {
   "cell_type": "markdown",
   "id": "60c3e645",
   "metadata": {},
   "source": [
    "## 1.1\\) TF-IDF + Logistic Regression"
   ]
  },
  {
   "cell_type": "code",
   "execution_count": 7,
   "id": "f12a07f3",
   "metadata": {},
   "outputs": [
    {
     "data": {
      "application/vnd.jupyter.widget-view+json": {
       "model_id": "5c983a337b994283b8e68e44b6a9304d",
       "version_major": 2,
       "version_minor": 0
      },
      "text/plain": [
       "🧹 Cleaning train:   0%|          | 0/49524 [00:00<?, ?it/s]"
      ]
     },
     "metadata": {},
     "output_type": "display_data"
    },
    {
     "data": {
      "application/vnd.jupyter.widget-view+json": {
       "model_id": "2230ce027e1a4b8e837acfec6251b04f",
       "version_major": 2,
       "version_minor": 0
      },
      "text/plain": [
       "🧹 Cleaning test:   0%|          | 0/18 [00:00<?, ?it/s]"
      ]
     },
     "metadata": {},
     "output_type": "display_data"
    },
    {
     "name": "stdout",
     "output_type": "stream",
     "text": [
      "\n",
      "⏳ Fitting Logistic Regression…\n",
      "\n",
      "✅ Test accuracy: 66.667%\n",
      "\n",
      "              precision    recall  f1-score   support\n",
      "\n",
      "    negative      0.556     0.833     0.667         6\n",
      "     neutral      1.000     0.667     0.800         6\n",
      "    positive      0.600     0.500     0.545         6\n",
      "\n",
      "    accuracy                          0.667        18\n",
      "   macro avg      0.719     0.667     0.671        18\n",
      "weighted avg      0.719     0.667     0.671        18\n",
      "\n"
     ]
    }
   ],
   "source": [
    "import pandas as pd, re, string, os\n",
    "from tqdm.auto import tqdm\n",
    "from sklearn.feature_extraction.text import TfidfVectorizer\n",
    "from sklearn.linear_model import LogisticRegression\n",
    "from sklearn.pipeline import Pipeline\n",
    "from sklearn.metrics import accuracy_score, classification_report\n",
    "\n",
    "# ---------------- 1. Load datasets ----------------\n",
    "train_df = pd.read_csv(\"train_sets/train.csv\")\n",
    "test_df  = pd.read_csv(\"test_sets/sentiment-topic-test.tsv\", sep=\"\\t\")\n",
    "\n",
    "# ---------------- 2. Clean text ----------------\n",
    "def clean_text(text: str) -> str:\n",
    "    text = text.lower()\n",
    "    text = re.sub(r'https?://\\S+|www\\.\\S+', ' ', text)      # URLs\n",
    "    text = re.sub(r'\\d+', ' ', text)                        # digits\n",
    "    text = text.translate(str.maketrans('', '', string.punctuation.replace(\"'\", \"\")))  # keep apostrophes\n",
    "    text = re.sub(r\"\\s{2,}\", \" \", text)\n",
    "    return text.strip()\n",
    "\n",
    "tqdm.pandas(desc=\"🧹 Cleaning train\")\n",
    "train_df[\"clean_sentence\"] = train_df[\"sentence\"].progress_apply(clean_text)\n",
    "tqdm.pandas(desc=\"🧹 Cleaning test\")\n",
    "test_df[\"clean_sentence\"]  = test_df[\"sentence\"].progress_apply(clean_text)\n",
    "\n",
    "# ---------------- 3. Build + train pipeline ----------------\n",
    "model = Pipeline([\n",
    "    (\"tfidf\", TfidfVectorizer(\n",
    "        lowercase=False,\n",
    "        stop_words=\"english\",\n",
    "        ngram_range=(1,1),\n",
    "        min_df=5,\n",
    "        max_df=0.9,\n",
    "        max_features=20000   # keep RAM low\n",
    "    )),\n",
    "    (\"clf\", LogisticRegression(\n",
    "        max_iter=400,\n",
    "        solver=\"liblinear\",   # memory‑friendly\n",
    "        class_weight=\"balanced\"\n",
    "    ))\n",
    "])\n",
    "\n",
    "print(\"\\n⏳ Fitting Logistic Regression…\")\n",
    "model.fit(train_df[\"clean_sentence\"], train_df[\"sentiment\"])\n",
    "\n",
    "# ---------------- 4. Predict + evaluate ----------------\n",
    "preds = model.predict(test_df[\"clean_sentence\"])\n",
    "acc  = accuracy_score(test_df[\"sentiment\"], preds)\n",
    "print(f\"\\n✅ Test accuracy: {acc:.3%}\\n\")\n",
    "print(classification_report(test_df[\"sentiment\"], preds, digits=3))\n"
   ]
  }
 ],
 "metadata": {
  "kernelspec": {
   "display_name": "Python 3",
   "language": "python",
   "name": "python3"
  },
  "language_info": {
   "codemirror_mode": {
    "name": "ipython",
    "version": 3
   },
   "file_extension": ".py",
   "mimetype": "text/x-python",
   "name": "python",
   "nbconvert_exporter": "python",
   "pygments_lexer": "ipython3",
   "version": "3.12.1"
  }
 },
 "nbformat": 4,
 "nbformat_minor": 5
}
