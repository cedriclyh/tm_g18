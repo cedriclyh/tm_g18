{
 "cells": [
  {
   "cell_type": "markdown",
   "id": "65789ea2",
   "metadata": {},
   "source": [
    "# Preprocessing all 3 original datasets"
   ]
  },
  {
   "cell_type": "markdown",
   "id": "d174e9c7",
   "metadata": {},
   "source": [
    "## Preprocessing Book Dataset"
   ]
  },
  {
   "cell_type": "code",
   "execution_count": 8,
   "id": "54861089",
   "metadata": {},
   "outputs": [],
   "source": [
    "# Import libraries\n",
    "import pandas as pd\n",
    "import numpy as np"
   ]
  },
  {
   "cell_type": "code",
   "execution_count": 9,
   "id": "a10d4d24",
   "metadata": {},
   "outputs": [
    {
     "data": {
      "text/html": [
       "<div>\n",
       "<style scoped>\n",
       "    .dataframe tbody tr th:only-of-type {\n",
       "        vertical-align: middle;\n",
       "    }\n",
       "\n",
       "    .dataframe tbody tr th {\n",
       "        vertical-align: top;\n",
       "    }\n",
       "\n",
       "    .dataframe thead th {\n",
       "        text-align: right;\n",
       "    }\n",
       "</style>\n",
       "<table border=\"1\" class=\"dataframe\">\n",
       "  <thead>\n",
       "    <tr style=\"text-align: right;\">\n",
       "      <th></th>\n",
       "      <th>Unnamed: 0</th>\n",
       "      <th>rating</th>\n",
       "      <th>reviewText</th>\n",
       "      <th>summary</th>\n",
       "    </tr>\n",
       "  </thead>\n",
       "  <tbody>\n",
       "    <tr>\n",
       "      <th>0</th>\n",
       "      <td>0</td>\n",
       "      <td>5</td>\n",
       "      <td>This book was the very first bookmobile book I...</td>\n",
       "      <td>50 + years ago...</td>\n",
       "    </tr>\n",
       "    <tr>\n",
       "      <th>1</th>\n",
       "      <td>1</td>\n",
       "      <td>1</td>\n",
       "      <td>When I read the description for this book, I c...</td>\n",
       "      <td>Boring! Boring! Boring!</td>\n",
       "    </tr>\n",
       "    <tr>\n",
       "      <th>2</th>\n",
       "      <td>2</td>\n",
       "      <td>5</td>\n",
       "      <td>I just had to edit this review. This book is a...</td>\n",
       "      <td>Wiggleliscious/new toy ready/!!</td>\n",
       "    </tr>\n",
       "    <tr>\n",
       "      <th>3</th>\n",
       "      <td>3</td>\n",
       "      <td>5</td>\n",
       "      <td>I don't normally buy 'mystery' novels because ...</td>\n",
       "      <td>Very good read.</td>\n",
       "    </tr>\n",
       "    <tr>\n",
       "      <th>4</th>\n",
       "      <td>4</td>\n",
       "      <td>5</td>\n",
       "      <td>This isn't the kind of book I normally read, a...</td>\n",
       "      <td>Great Story!</td>\n",
       "    </tr>\n",
       "  </tbody>\n",
       "</table>\n",
       "</div>"
      ],
      "text/plain": [
       "   Unnamed: 0  rating                                         reviewText  \\\n",
       "0           0       5  This book was the very first bookmobile book I...   \n",
       "1           1       1  When I read the description for this book, I c...   \n",
       "2           2       5  I just had to edit this review. This book is a...   \n",
       "3           3       5  I don't normally buy 'mystery' novels because ...   \n",
       "4           4       5  This isn't the kind of book I normally read, a...   \n",
       "\n",
       "                           summary  \n",
       "0                50 + years ago...  \n",
       "1          Boring! Boring! Boring!  \n",
       "2  Wiggleliscious/new toy ready/!!  \n",
       "3                  Very good read.  \n",
       "4                     Great Story!  "
      ]
     },
     "execution_count": 9,
     "metadata": {},
     "output_type": "execute_result"
    }
   ],
   "source": [
    "# Read book_original.csv\n",
    "\n",
    "df_book = pd.read_csv(\"original_datasets/book_original.csv\")\n",
    "df_book.head()"
   ]
  },
  {
   "cell_type": "code",
   "execution_count": 10,
   "id": "a5723c33",
   "metadata": {},
   "outputs": [
    {
     "name": "stdout",
     "output_type": "stream",
     "text": [
      "<class 'pandas.core.frame.DataFrame'>\n",
      "RangeIndex: 12000 entries, 0 to 11999\n",
      "Data columns (total 4 columns):\n",
      " #   Column      Non-Null Count  Dtype \n",
      "---  ------      --------------  ----- \n",
      " 0   Unnamed: 0  12000 non-null  int64 \n",
      " 1   rating      12000 non-null  int64 \n",
      " 2   reviewText  12000 non-null  object\n",
      " 3   summary     11998 non-null  object\n",
      "dtypes: int64(2), object(2)\n",
      "memory usage: 375.1+ KB\n"
     ]
    }
   ],
   "source": [
    "df_book.info()"
   ]
  },
  {
   "cell_type": "code",
   "execution_count": 11,
   "id": "c81eaba9",
   "metadata": {},
   "outputs": [
    {
     "data": {
      "text/plain": [
       "rating\n",
       "5    3000\n",
       "4    3000\n",
       "1    2000\n",
       "3    2000\n",
       "2    2000\n",
       "Name: count, dtype: int64"
      ]
     },
     "execution_count": 11,
     "metadata": {},
     "output_type": "execute_result"
    }
   ],
   "source": [
    "df_book[\"rating\"].value_counts()"
   ]
  },
  {
   "cell_type": "code",
   "execution_count": 14,
   "id": "e948dc03",
   "metadata": {},
   "outputs": [],
   "source": [
    "def map_rating(class_index):\n",
    "    if class_index in [1, 2]:\n",
    "        return 'negative'\n",
    "    elif class_index == 3:\n",
    "        return 'neutral'\n",
    "    elif class_index in [4, 5]:\n",
    "        return 'positive'\n",
    "    else:\n",
    "        return 'unknown'"
   ]
  },
  {
   "cell_type": "code",
   "execution_count": 20,
   "id": "1f3ced9d",
   "metadata": {},
   "outputs": [],
   "source": [
    "df_book['sentiment'] = df_book['rating'].apply(map_rating)"
   ]
  },
  {
   "cell_type": "code",
   "execution_count": 22,
   "id": "795db561",
   "metadata": {},
   "outputs": [],
   "source": [
    "# Drop Unnamed: 0, rating and summary columns\n",
    "df_book = df_book.drop(columns=['Unnamed: 0', 'rating', 'summary'])"
   ]
  },
  {
   "cell_type": "code",
   "execution_count": 24,
   "id": "820024a2",
   "metadata": {},
   "outputs": [],
   "source": [
    "# Rename reviewText to sentence column\n",
    "df_book = df_book.rename(columns={'reviewText': 'sentence'})"
   ]
  },
  {
   "cell_type": "code",
   "execution_count": 26,
   "id": "d23f6b70",
   "metadata": {},
   "outputs": [],
   "source": [
    "# Add a new column named 'topic' with value 'book'\n",
    "df_book['topic'] = 'book'"
   ]
  },
  {
   "cell_type": "code",
   "execution_count": 27,
   "id": "acca8094",
   "metadata": {},
   "outputs": [
    {
     "data": {
      "text/html": [
       "<div>\n",
       "<style scoped>\n",
       "    .dataframe tbody tr th:only-of-type {\n",
       "        vertical-align: middle;\n",
       "    }\n",
       "\n",
       "    .dataframe tbody tr th {\n",
       "        vertical-align: top;\n",
       "    }\n",
       "\n",
       "    .dataframe thead th {\n",
       "        text-align: right;\n",
       "    }\n",
       "</style>\n",
       "<table border=\"1\" class=\"dataframe\">\n",
       "  <thead>\n",
       "    <tr style=\"text-align: right;\">\n",
       "      <th></th>\n",
       "      <th>sentence</th>\n",
       "      <th>sentiment</th>\n",
       "      <th>topic</th>\n",
       "    </tr>\n",
       "  </thead>\n",
       "  <tbody>\n",
       "    <tr>\n",
       "      <th>0</th>\n",
       "      <td>This book was the very first bookmobile book I...</td>\n",
       "      <td>positive</td>\n",
       "      <td>book</td>\n",
       "    </tr>\n",
       "    <tr>\n",
       "      <th>1</th>\n",
       "      <td>When I read the description for this book, I c...</td>\n",
       "      <td>negative</td>\n",
       "      <td>book</td>\n",
       "    </tr>\n",
       "    <tr>\n",
       "      <th>2</th>\n",
       "      <td>I just had to edit this review. This book is a...</td>\n",
       "      <td>positive</td>\n",
       "      <td>book</td>\n",
       "    </tr>\n",
       "    <tr>\n",
       "      <th>3</th>\n",
       "      <td>I don't normally buy 'mystery' novels because ...</td>\n",
       "      <td>positive</td>\n",
       "      <td>book</td>\n",
       "    </tr>\n",
       "    <tr>\n",
       "      <th>4</th>\n",
       "      <td>This isn't the kind of book I normally read, a...</td>\n",
       "      <td>positive</td>\n",
       "      <td>book</td>\n",
       "    </tr>\n",
       "    <tr>\n",
       "      <th>...</th>\n",
       "      <td>...</td>\n",
       "      <td>...</td>\n",
       "      <td>...</td>\n",
       "    </tr>\n",
       "    <tr>\n",
       "      <th>11995</th>\n",
       "      <td>Had to read certain passages twice--typos.  Wi...</td>\n",
       "      <td>negative</td>\n",
       "      <td>book</td>\n",
       "    </tr>\n",
       "    <tr>\n",
       "      <th>11996</th>\n",
       "      <td>Not what i expected. yet a very interesting bo...</td>\n",
       "      <td>neutral</td>\n",
       "      <td>book</td>\n",
       "    </tr>\n",
       "    <tr>\n",
       "      <th>11997</th>\n",
       "      <td>Dragon Knights is a world where Knights ride d...</td>\n",
       "      <td>positive</td>\n",
       "      <td>book</td>\n",
       "    </tr>\n",
       "    <tr>\n",
       "      <th>11998</th>\n",
       "      <td>Since this story is very short, it's hard to s...</td>\n",
       "      <td>positive</td>\n",
       "      <td>book</td>\n",
       "    </tr>\n",
       "    <tr>\n",
       "      <th>11999</th>\n",
       "      <td>from 1922 an amazing collection of info on sym...</td>\n",
       "      <td>positive</td>\n",
       "      <td>book</td>\n",
       "    </tr>\n",
       "  </tbody>\n",
       "</table>\n",
       "<p>12000 rows × 3 columns</p>\n",
       "</div>"
      ],
      "text/plain": [
       "                                                sentence sentiment topic\n",
       "0      This book was the very first bookmobile book I...  positive  book\n",
       "1      When I read the description for this book, I c...  negative  book\n",
       "2      I just had to edit this review. This book is a...  positive  book\n",
       "3      I don't normally buy 'mystery' novels because ...  positive  book\n",
       "4      This isn't the kind of book I normally read, a...  positive  book\n",
       "...                                                  ...       ...   ...\n",
       "11995  Had to read certain passages twice--typos.  Wi...  negative  book\n",
       "11996  Not what i expected. yet a very interesting bo...   neutral  book\n",
       "11997  Dragon Knights is a world where Knights ride d...  positive  book\n",
       "11998  Since this story is very short, it's hard to s...  positive  book\n",
       "11999  from 1922 an amazing collection of info on sym...  positive  book\n",
       "\n",
       "[12000 rows x 3 columns]"
      ]
     },
     "execution_count": 27,
     "metadata": {},
     "output_type": "execute_result"
    }
   ],
   "source": [
    "df_book"
   ]
  },
  {
   "cell_type": "markdown",
   "id": "33ec2bae",
   "metadata": {},
   "source": [
    "## Preprocessing Sports Dataset"
   ]
  },
  {
   "cell_type": "code",
   "execution_count": 28,
   "id": "4da9e85e",
   "metadata": {},
   "outputs": [
    {
     "data": {
      "text/html": [
       "<div>\n",
       "<style scoped>\n",
       "    .dataframe tbody tr th:only-of-type {\n",
       "        vertical-align: middle;\n",
       "    }\n",
       "\n",
       "    .dataframe tbody tr th {\n",
       "        vertical-align: top;\n",
       "    }\n",
       "\n",
       "    .dataframe thead th {\n",
       "        text-align: right;\n",
       "    }\n",
       "</style>\n",
       "<table border=\"1\" class=\"dataframe\">\n",
       "  <thead>\n",
       "    <tr style=\"text-align: right;\">\n",
       "      <th></th>\n",
       "      <th>Unnamed: 0</th>\n",
       "      <th>Date Created</th>\n",
       "      <th>Number of Likes</th>\n",
       "      <th>Source of Tweet</th>\n",
       "      <th>Tweet</th>\n",
       "      <th>Sentiment</th>\n",
       "    </tr>\n",
       "  </thead>\n",
       "  <tbody>\n",
       "    <tr>\n",
       "      <th>0</th>\n",
       "      <td>0</td>\n",
       "      <td>2022-11-20 23:59:21+00:00</td>\n",
       "      <td>4</td>\n",
       "      <td>Twitter Web App</td>\n",
       "      <td>What are we drinking today @TucanTribe \\n@MadB...</td>\n",
       "      <td>neutral</td>\n",
       "    </tr>\n",
       "    <tr>\n",
       "      <th>1</th>\n",
       "      <td>1</td>\n",
       "      <td>2022-11-20 23:59:01+00:00</td>\n",
       "      <td>3</td>\n",
       "      <td>Twitter for iPhone</td>\n",
       "      <td>Amazing @CanadaSoccerEN  #WorldCup2022 launch ...</td>\n",
       "      <td>positive</td>\n",
       "    </tr>\n",
       "    <tr>\n",
       "      <th>2</th>\n",
       "      <td>2</td>\n",
       "      <td>2022-11-20 23:58:41+00:00</td>\n",
       "      <td>1</td>\n",
       "      <td>Twitter for iPhone</td>\n",
       "      <td>Worth reading while watching #WorldCup2022 htt...</td>\n",
       "      <td>positive</td>\n",
       "    </tr>\n",
       "    <tr>\n",
       "      <th>3</th>\n",
       "      <td>3</td>\n",
       "      <td>2022-11-20 23:58:33+00:00</td>\n",
       "      <td>1</td>\n",
       "      <td>Twitter Web App</td>\n",
       "      <td>Golden Maknae shinning bright\\n\\nhttps://t.co/...</td>\n",
       "      <td>positive</td>\n",
       "    </tr>\n",
       "    <tr>\n",
       "      <th>4</th>\n",
       "      <td>4</td>\n",
       "      <td>2022-11-20 23:58:28+00:00</td>\n",
       "      <td>0</td>\n",
       "      <td>Twitter for Android</td>\n",
       "      <td>If the BBC cares so much about human rights, h...</td>\n",
       "      <td>negative</td>\n",
       "    </tr>\n",
       "  </tbody>\n",
       "</table>\n",
       "</div>"
      ],
      "text/plain": [
       "   Unnamed: 0               Date Created  Number of Likes  \\\n",
       "0           0  2022-11-20 23:59:21+00:00                4   \n",
       "1           1  2022-11-20 23:59:01+00:00                3   \n",
       "2           2  2022-11-20 23:58:41+00:00                1   \n",
       "3           3  2022-11-20 23:58:33+00:00                1   \n",
       "4           4  2022-11-20 23:58:28+00:00                0   \n",
       "\n",
       "       Source of Tweet                                              Tweet  \\\n",
       "0      Twitter Web App  What are we drinking today @TucanTribe \\n@MadB...   \n",
       "1   Twitter for iPhone  Amazing @CanadaSoccerEN  #WorldCup2022 launch ...   \n",
       "2   Twitter for iPhone  Worth reading while watching #WorldCup2022 htt...   \n",
       "3      Twitter Web App  Golden Maknae shinning bright\\n\\nhttps://t.co/...   \n",
       "4  Twitter for Android  If the BBC cares so much about human rights, h...   \n",
       "\n",
       "  Sentiment  \n",
       "0   neutral  \n",
       "1  positive  \n",
       "2  positive  \n",
       "3  positive  \n",
       "4  negative  "
      ]
     },
     "execution_count": 28,
     "metadata": {},
     "output_type": "execute_result"
    }
   ],
   "source": [
    "df_sports = pd.read_csv(\"original_datasets/sports_original.csv\")\n",
    "df_sports.head()"
   ]
  },
  {
   "cell_type": "code",
   "execution_count": 29,
   "id": "aa079386",
   "metadata": {},
   "outputs": [
    {
     "data": {
      "text/plain": [
       "Sentiment\n",
       "positive    8489\n",
       "neutral     8251\n",
       "negative    5784\n",
       "Name: count, dtype: int64"
      ]
     },
     "execution_count": 29,
     "metadata": {},
     "output_type": "execute_result"
    }
   ],
   "source": [
    "df_sports[\"Sentiment\"].value_counts()   "
   ]
  },
  {
   "cell_type": "code",
   "execution_count": 31,
   "id": "829c3288",
   "metadata": {},
   "outputs": [],
   "source": [
    "# Drop Unnamed: 0, Date Created, Number of Likes, Source of tweet column\n",
    "df_sports = df_sports.drop(columns=['Unnamed: 0', 'Date Created', 'Number of Likes', 'Source of Tweet'])"
   ]
  },
  {
   "cell_type": "code",
   "execution_count": 32,
   "id": "5b57896e",
   "metadata": {},
   "outputs": [],
   "source": [
    "# Rename Sentiment to sentiment and Tweet to sentence\n",
    "df_sports = df_sports.rename(columns={'Sentiment': 'sentiment', 'Tweet': 'sentence'})"
   ]
  },
  {
   "cell_type": "code",
   "execution_count": 35,
   "id": "973a52fd",
   "metadata": {},
   "outputs": [],
   "source": [
    "# Add a new column named 'topic' with value 'sports'\n",
    "df_sports['topic'] = 'sports'"
   ]
  },
  {
   "cell_type": "code",
   "execution_count": 36,
   "id": "657bf24b",
   "metadata": {},
   "outputs": [
    {
     "data": {
      "text/html": [
       "<div>\n",
       "<style scoped>\n",
       "    .dataframe tbody tr th:only-of-type {\n",
       "        vertical-align: middle;\n",
       "    }\n",
       "\n",
       "    .dataframe tbody tr th {\n",
       "        vertical-align: top;\n",
       "    }\n",
       "\n",
       "    .dataframe thead th {\n",
       "        text-align: right;\n",
       "    }\n",
       "</style>\n",
       "<table border=\"1\" class=\"dataframe\">\n",
       "  <thead>\n",
       "    <tr style=\"text-align: right;\">\n",
       "      <th></th>\n",
       "      <th>sentence</th>\n",
       "      <th>sentiment</th>\n",
       "      <th>topic</th>\n",
       "    </tr>\n",
       "  </thead>\n",
       "  <tbody>\n",
       "    <tr>\n",
       "      <th>0</th>\n",
       "      <td>What are we drinking today @TucanTribe \\n@MadB...</td>\n",
       "      <td>neutral</td>\n",
       "      <td>sports</td>\n",
       "    </tr>\n",
       "    <tr>\n",
       "      <th>1</th>\n",
       "      <td>Amazing @CanadaSoccerEN  #WorldCup2022 launch ...</td>\n",
       "      <td>positive</td>\n",
       "      <td>sports</td>\n",
       "    </tr>\n",
       "    <tr>\n",
       "      <th>2</th>\n",
       "      <td>Worth reading while watching #WorldCup2022 htt...</td>\n",
       "      <td>positive</td>\n",
       "      <td>sports</td>\n",
       "    </tr>\n",
       "    <tr>\n",
       "      <th>3</th>\n",
       "      <td>Golden Maknae shinning bright\\n\\nhttps://t.co/...</td>\n",
       "      <td>positive</td>\n",
       "      <td>sports</td>\n",
       "    </tr>\n",
       "    <tr>\n",
       "      <th>4</th>\n",
       "      <td>If the BBC cares so much about human rights, h...</td>\n",
       "      <td>negative</td>\n",
       "      <td>sports</td>\n",
       "    </tr>\n",
       "    <tr>\n",
       "      <th>...</th>\n",
       "      <td>...</td>\n",
       "      <td>...</td>\n",
       "      <td>...</td>\n",
       "    </tr>\n",
       "    <tr>\n",
       "      <th>22519</th>\n",
       "      <td>Here We go World cup 2022 #WorldCup2022</td>\n",
       "      <td>positive</td>\n",
       "      <td>sports</td>\n",
       "    </tr>\n",
       "    <tr>\n",
       "      <th>22520</th>\n",
       "      <td>Anderlecht confirms former Viborg FF's Jesper ...</td>\n",
       "      <td>neutral</td>\n",
       "      <td>sports</td>\n",
       "    </tr>\n",
       "    <tr>\n",
       "      <th>22521</th>\n",
       "      <td>Great thread to read before the start of #Worl...</td>\n",
       "      <td>positive</td>\n",
       "      <td>sports</td>\n",
       "    </tr>\n",
       "    <tr>\n",
       "      <th>22522</th>\n",
       "      <td>Raphinha wants Brazil to be united at the #Wor...</td>\n",
       "      <td>positive</td>\n",
       "      <td>sports</td>\n",
       "    </tr>\n",
       "    <tr>\n",
       "      <th>22523</th>\n",
       "      <td>How to buy $SOT on PinkSale?🤔\\n\\nHave you been...</td>\n",
       "      <td>neutral</td>\n",
       "      <td>sports</td>\n",
       "    </tr>\n",
       "  </tbody>\n",
       "</table>\n",
       "<p>22524 rows × 3 columns</p>\n",
       "</div>"
      ],
      "text/plain": [
       "                                                sentence sentiment   topic\n",
       "0      What are we drinking today @TucanTribe \\n@MadB...   neutral  sports\n",
       "1      Amazing @CanadaSoccerEN  #WorldCup2022 launch ...  positive  sports\n",
       "2      Worth reading while watching #WorldCup2022 htt...  positive  sports\n",
       "3      Golden Maknae shinning bright\\n\\nhttps://t.co/...  positive  sports\n",
       "4      If the BBC cares so much about human rights, h...  negative  sports\n",
       "...                                                  ...       ...     ...\n",
       "22519            Here We go World cup 2022 #WorldCup2022  positive  sports\n",
       "22520  Anderlecht confirms former Viborg FF's Jesper ...   neutral  sports\n",
       "22521  Great thread to read before the start of #Worl...  positive  sports\n",
       "22522  Raphinha wants Brazil to be united at the #Wor...  positive  sports\n",
       "22523  How to buy $SOT on PinkSale?🤔\\n\\nHave you been...   neutral  sports\n",
       "\n",
       "[22524 rows x 3 columns]"
      ]
     },
     "execution_count": 36,
     "metadata": {},
     "output_type": "execute_result"
    }
   ],
   "source": [
    "df_sports"
   ]
  },
  {
   "cell_type": "markdown",
   "id": "100c6a01",
   "metadata": {},
   "source": [
    "## Preprocessing Movies Dataset"
   ]
  },
  {
   "cell_type": "code",
   "execution_count": 43,
   "id": "d3c9d661",
   "metadata": {},
   "outputs": [
    {
     "data": {
      "text/html": [
       "<div>\n",
       "<style scoped>\n",
       "    .dataframe tbody tr th:only-of-type {\n",
       "        vertical-align: middle;\n",
       "    }\n",
       "\n",
       "    .dataframe tbody tr th {\n",
       "        vertical-align: top;\n",
       "    }\n",
       "\n",
       "    .dataframe thead th {\n",
       "        text-align: right;\n",
       "    }\n",
       "</style>\n",
       "<table border=\"1\" class=\"dataframe\">\n",
       "  <thead>\n",
       "    <tr style=\"text-align: right;\">\n",
       "      <th></th>\n",
       "      <th>Review</th>\n",
       "      <th>Rating</th>\n",
       "      <th>Sentiment</th>\n",
       "    </tr>\n",
       "  </thead>\n",
       "  <tbody>\n",
       "    <tr>\n",
       "      <th>0</th>\n",
       "      <td>Kurt Russell's chameleon-like performance, cou...</td>\n",
       "      <td>10</td>\n",
       "      <td>1</td>\n",
       "    </tr>\n",
       "    <tr>\n",
       "      <th>1</th>\n",
       "      <td>It was extremely low budget(it some scenes it ...</td>\n",
       "      <td>8</td>\n",
       "      <td>1</td>\n",
       "    </tr>\n",
       "    <tr>\n",
       "      <th>2</th>\n",
       "      <td>James Cagney is best known for his tough chara...</td>\n",
       "      <td>8</td>\n",
       "      <td>1</td>\n",
       "    </tr>\n",
       "    <tr>\n",
       "      <th>3</th>\n",
       "      <td>Following the brilliant \"Goyôkiba\" (aka. \"Hanz...</td>\n",
       "      <td>8</td>\n",
       "      <td>1</td>\n",
       "    </tr>\n",
       "    <tr>\n",
       "      <th>4</th>\n",
       "      <td>One of the last classics of the French New Wav...</td>\n",
       "      <td>10</td>\n",
       "      <td>1</td>\n",
       "    </tr>\n",
       "  </tbody>\n",
       "</table>\n",
       "</div>"
      ],
      "text/plain": [
       "                                              Review  Rating  Sentiment\n",
       "0  Kurt Russell's chameleon-like performance, cou...      10          1\n",
       "1  It was extremely low budget(it some scenes it ...       8          1\n",
       "2  James Cagney is best known for his tough chara...       8          1\n",
       "3  Following the brilliant \"Goyôkiba\" (aka. \"Hanz...       8          1\n",
       "4  One of the last classics of the French New Wav...      10          1"
      ]
     },
     "execution_count": 43,
     "metadata": {},
     "output_type": "execute_result"
    }
   ],
   "source": [
    "df_movies = pd.read_csv(\"original_datasets/movies_original.csv\")\n",
    "df_movies.head()"
   ]
  },
  {
   "cell_type": "code",
   "execution_count": 44,
   "id": "7e155599",
   "metadata": {},
   "outputs": [
    {
     "data": {
      "text/plain": [
       "Rating\n",
       "1     10122\n",
       "10     9731\n",
       "8      5859\n",
       "4      5331\n",
       "3      4961\n",
       "7      4803\n",
       "9      4607\n",
       "2      4586\n",
       "Name: count, dtype: int64"
      ]
     },
     "execution_count": 44,
     "metadata": {},
     "output_type": "execute_result"
    }
   ],
   "source": [
    "df_movies[\"Rating\"].value_counts()"
   ]
  },
  {
   "cell_type": "code",
   "execution_count": 45,
   "id": "acf467b5",
   "metadata": {},
   "outputs": [],
   "source": [
    "# Map ratings to sentiment\n",
    "def map_rating_movies(class_index):\n",
    "    if class_index in [1, 2, 3]:\n",
    "        return 'negative'\n",
    "    elif class_index == 4:\n",
    "        return 'neutral'\n",
    "    elif class_index in [7, 8, 9, 10]:\n",
    "        return 'positive'\n",
    "    else:\n",
    "        return 'unknown'"
   ]
  },
  {
   "cell_type": "code",
   "execution_count": 46,
   "id": "c1ae9a81",
   "metadata": {},
   "outputs": [],
   "source": [
    "# Drop Sentiment column and apply map_rating_movies to Rating column\n",
    "df_movies = df_movies.drop(columns=['Sentiment'])\n",
    "df_movies['sentiment'] = df_movies['Rating'].apply(map_rating_movies)"
   ]
  },
  {
   "cell_type": "code",
   "execution_count": 47,
   "id": "fb87df15",
   "metadata": {},
   "outputs": [],
   "source": [
    "# Rename Review to sentence column and drop Rating column\n",
    "df_movies = df_movies.rename(columns={'Review': 'sentence'})\n",
    "df_movies = df_movies.drop(columns=['Rating'])"
   ]
  },
  {
   "cell_type": "code",
   "execution_count": 48,
   "id": "70f97768",
   "metadata": {},
   "outputs": [
    {
     "data": {
      "text/html": [
       "<div>\n",
       "<style scoped>\n",
       "    .dataframe tbody tr th:only-of-type {\n",
       "        vertical-align: middle;\n",
       "    }\n",
       "\n",
       "    .dataframe tbody tr th {\n",
       "        vertical-align: top;\n",
       "    }\n",
       "\n",
       "    .dataframe thead th {\n",
       "        text-align: right;\n",
       "    }\n",
       "</style>\n",
       "<table border=\"1\" class=\"dataframe\">\n",
       "  <thead>\n",
       "    <tr style=\"text-align: right;\">\n",
       "      <th></th>\n",
       "      <th>sentence</th>\n",
       "      <th>sentiment</th>\n",
       "    </tr>\n",
       "  </thead>\n",
       "  <tbody>\n",
       "    <tr>\n",
       "      <th>0</th>\n",
       "      <td>Kurt Russell's chameleon-like performance, cou...</td>\n",
       "      <td>positive</td>\n",
       "    </tr>\n",
       "    <tr>\n",
       "      <th>1</th>\n",
       "      <td>It was extremely low budget(it some scenes it ...</td>\n",
       "      <td>positive</td>\n",
       "    </tr>\n",
       "    <tr>\n",
       "      <th>2</th>\n",
       "      <td>James Cagney is best known for his tough chara...</td>\n",
       "      <td>positive</td>\n",
       "    </tr>\n",
       "    <tr>\n",
       "      <th>3</th>\n",
       "      <td>Following the brilliant \"Goyôkiba\" (aka. \"Hanz...</td>\n",
       "      <td>positive</td>\n",
       "    </tr>\n",
       "    <tr>\n",
       "      <th>4</th>\n",
       "      <td>One of the last classics of the French New Wav...</td>\n",
       "      <td>positive</td>\n",
       "    </tr>\n",
       "    <tr>\n",
       "      <th>...</th>\n",
       "      <td>...</td>\n",
       "      <td>...</td>\n",
       "    </tr>\n",
       "    <tr>\n",
       "      <th>49995</th>\n",
       "      <td>(spoiler) it could be the one the worst movie ...</td>\n",
       "      <td>neutral</td>\n",
       "    </tr>\n",
       "    <tr>\n",
       "      <th>49996</th>\n",
       "      <td>So, you've seen the Romero movies, yes? And yo...</td>\n",
       "      <td>negative</td>\n",
       "    </tr>\n",
       "    <tr>\n",
       "      <th>49997</th>\n",
       "      <td>Just listen to the Broadway cast album and to ...</td>\n",
       "      <td>negative</td>\n",
       "    </tr>\n",
       "    <tr>\n",
       "      <th>49998</th>\n",
       "      <td>I have been a fan of the Carpenters for a long...</td>\n",
       "      <td>negative</td>\n",
       "    </tr>\n",
       "    <tr>\n",
       "      <th>49999</th>\n",
       "      <td>Set in 1945, Skenbart follows a failed Swedish...</td>\n",
       "      <td>negative</td>\n",
       "    </tr>\n",
       "  </tbody>\n",
       "</table>\n",
       "<p>50000 rows × 2 columns</p>\n",
       "</div>"
      ],
      "text/plain": [
       "                                                sentence sentiment\n",
       "0      Kurt Russell's chameleon-like performance, cou...  positive\n",
       "1      It was extremely low budget(it some scenes it ...  positive\n",
       "2      James Cagney is best known for his tough chara...  positive\n",
       "3      Following the brilliant \"Goyôkiba\" (aka. \"Hanz...  positive\n",
       "4      One of the last classics of the French New Wav...  positive\n",
       "...                                                  ...       ...\n",
       "49995  (spoiler) it could be the one the worst movie ...   neutral\n",
       "49996  So, you've seen the Romero movies, yes? And yo...  negative\n",
       "49997  Just listen to the Broadway cast album and to ...  negative\n",
       "49998  I have been a fan of the Carpenters for a long...  negative\n",
       "49999  Set in 1945, Skenbart follows a failed Swedish...  negative\n",
       "\n",
       "[50000 rows x 2 columns]"
      ]
     },
     "execution_count": 48,
     "metadata": {},
     "output_type": "execute_result"
    }
   ],
   "source": [
    "df_movies"
   ]
  },
  {
   "cell_type": "code",
   "execution_count": 51,
   "id": "3166ad40",
   "metadata": {},
   "outputs": [
    {
     "data": {
      "text/plain": [
       "sentiment\n",
       "positive    25000\n",
       "negative    19669\n",
       "neutral      5331\n",
       "Name: count, dtype: int64"
      ]
     },
     "execution_count": 51,
     "metadata": {},
     "output_type": "execute_result"
    }
   ],
   "source": [
    "df_movies[\"sentiment\"].value_counts()"
   ]
  },
  {
   "cell_type": "markdown",
   "id": "b862b8f7",
   "metadata": {},
   "source": [
    "Since `df_movies` is highly imbalanced and much larger than `df_book` and `df_sports`, we will downsample `df_movies` to 15k rows where there are 5k rows for each sentiment (`positive`, `neutral`, `negative`)."
   ]
  },
  {
   "cell_type": "code",
   "execution_count": 52,
   "id": "4302473b",
   "metadata": {},
   "outputs": [
    {
     "name": "stdout",
     "output_type": "stream",
     "text": [
      "sentiment\n",
      "negative    5000\n",
      "neutral     5000\n",
      "positive    5000\n",
      "Name: count, dtype: int64\n"
     ]
    },
    {
     "name": "stderr",
     "output_type": "stream",
     "text": [
      "C:\\Users\\Redbu\\AppData\\Local\\Temp\\ipykernel_3016\\316222979.py:7: DeprecationWarning: DataFrameGroupBy.apply operated on the grouping columns. This behavior is deprecated, and in a future version of pandas the grouping columns will be excluded from the operation. Either pass `include_groups=False` to exclude the groupings or explicitly select the grouping columns after groupby to silence this warning.\n",
      "  .apply(lambda x: x.sample(n=TARGET,          # draw 5 000 rows\n"
     ]
    }
   ],
   "source": [
    "TARGET = 5_000       \n",
    "RNG_SEED = 42         # so results are reproducible\n",
    "\n",
    "balanced_movies = (\n",
    "    df_movies                       # original DataFrame\n",
    "      .groupby(\"sentiment\", group_keys=False)      # split by class\n",
    "      .apply(lambda x: x.sample(n=TARGET,          # draw 5 000 rows\n",
    "                                random_state=RNG_SEED))\n",
    "      .reset_index(drop=True)\n",
    ")\n",
    "\n",
    "# sanity-check\n",
    "print(balanced_movies[\"sentiment\"].value_counts())\n"
   ]
  },
  {
   "cell_type": "code",
   "execution_count": 54,
   "id": "496868c3",
   "metadata": {},
   "outputs": [
    {
     "data": {
      "text/html": [
       "<div>\n",
       "<style scoped>\n",
       "    .dataframe tbody tr th:only-of-type {\n",
       "        vertical-align: middle;\n",
       "    }\n",
       "\n",
       "    .dataframe tbody tr th {\n",
       "        vertical-align: top;\n",
       "    }\n",
       "\n",
       "    .dataframe thead th {\n",
       "        text-align: right;\n",
       "    }\n",
       "</style>\n",
       "<table border=\"1\" class=\"dataframe\">\n",
       "  <thead>\n",
       "    <tr style=\"text-align: right;\">\n",
       "      <th></th>\n",
       "      <th>sentence</th>\n",
       "      <th>sentiment</th>\n",
       "    </tr>\n",
       "  </thead>\n",
       "  <tbody>\n",
       "    <tr>\n",
       "      <th>0</th>\n",
       "      <td>Richard Dreyfuss is, indeed, in this flick, bu...</td>\n",
       "      <td>negative</td>\n",
       "    </tr>\n",
       "    <tr>\n",
       "      <th>1</th>\n",
       "      <td>By no means is this movie as bad as 'Perfect S...</td>\n",
       "      <td>negative</td>\n",
       "    </tr>\n",
       "    <tr>\n",
       "      <th>2</th>\n",
       "      <td>I watched this movie for the first time the ot...</td>\n",
       "      <td>negative</td>\n",
       "    </tr>\n",
       "    <tr>\n",
       "      <th>3</th>\n",
       "      <td>Recipe for one of the worst movies of all time...</td>\n",
       "      <td>negative</td>\n",
       "    </tr>\n",
       "    <tr>\n",
       "      <th>4</th>\n",
       "      <td>Despite the excellent cast, this is an unremar...</td>\n",
       "      <td>negative</td>\n",
       "    </tr>\n",
       "    <tr>\n",
       "      <th>...</th>\n",
       "      <td>...</td>\n",
       "      <td>...</td>\n",
       "    </tr>\n",
       "    <tr>\n",
       "      <th>14995</th>\n",
       "      <td>This is another fantasy favorite from Ralph Ba...</td>\n",
       "      <td>positive</td>\n",
       "    </tr>\n",
       "    <tr>\n",
       "      <th>14996</th>\n",
       "      <td>Although I love this movie, I can barely watch...</td>\n",
       "      <td>positive</td>\n",
       "    </tr>\n",
       "    <tr>\n",
       "      <th>14997</th>\n",
       "      <td>Anna (Charlotte Burke), who is just on the ver...</td>\n",
       "      <td>positive</td>\n",
       "    </tr>\n",
       "    <tr>\n",
       "      <th>14998</th>\n",
       "      <td>Ordinarily, Anthony Mann made westerns with 't...</td>\n",
       "      <td>positive</td>\n",
       "    </tr>\n",
       "    <tr>\n",
       "      <th>14999</th>\n",
       "      <td>-Kidnappings in Mexico are as common as honeys...</td>\n",
       "      <td>positive</td>\n",
       "    </tr>\n",
       "  </tbody>\n",
       "</table>\n",
       "<p>15000 rows × 2 columns</p>\n",
       "</div>"
      ],
      "text/plain": [
       "                                                sentence sentiment\n",
       "0      Richard Dreyfuss is, indeed, in this flick, bu...  negative\n",
       "1      By no means is this movie as bad as 'Perfect S...  negative\n",
       "2      I watched this movie for the first time the ot...  negative\n",
       "3      Recipe for one of the worst movies of all time...  negative\n",
       "4      Despite the excellent cast, this is an unremar...  negative\n",
       "...                                                  ...       ...\n",
       "14995  This is another fantasy favorite from Ralph Ba...  positive\n",
       "14996  Although I love this movie, I can barely watch...  positive\n",
       "14997  Anna (Charlotte Burke), who is just on the ver...  positive\n",
       "14998  Ordinarily, Anthony Mann made westerns with 't...  positive\n",
       "14999  -Kidnappings in Mexico are as common as honeys...  positive\n",
       "\n",
       "[15000 rows x 2 columns]"
      ]
     },
     "execution_count": 54,
     "metadata": {},
     "output_type": "execute_result"
    }
   ],
   "source": [
    "balanced_movies"
   ]
  },
  {
   "cell_type": "code",
   "execution_count": 55,
   "id": "cff92e0b",
   "metadata": {},
   "outputs": [],
   "source": [
    "# Add a new column named 'topic' with value 'movie'\n",
    "balanced_movies['topic'] = 'movie'"
   ]
  },
  {
   "cell_type": "code",
   "execution_count": 56,
   "id": "55489195",
   "metadata": {},
   "outputs": [
    {
     "data": {
      "text/html": [
       "<div>\n",
       "<style scoped>\n",
       "    .dataframe tbody tr th:only-of-type {\n",
       "        vertical-align: middle;\n",
       "    }\n",
       "\n",
       "    .dataframe tbody tr th {\n",
       "        vertical-align: top;\n",
       "    }\n",
       "\n",
       "    .dataframe thead th {\n",
       "        text-align: right;\n",
       "    }\n",
       "</style>\n",
       "<table border=\"1\" class=\"dataframe\">\n",
       "  <thead>\n",
       "    <tr style=\"text-align: right;\">\n",
       "      <th></th>\n",
       "      <th>sentence</th>\n",
       "      <th>sentiment</th>\n",
       "      <th>topic</th>\n",
       "    </tr>\n",
       "  </thead>\n",
       "  <tbody>\n",
       "    <tr>\n",
       "      <th>0</th>\n",
       "      <td>Richard Dreyfuss is, indeed, in this flick, bu...</td>\n",
       "      <td>negative</td>\n",
       "      <td>movie</td>\n",
       "    </tr>\n",
       "    <tr>\n",
       "      <th>1</th>\n",
       "      <td>By no means is this movie as bad as 'Perfect S...</td>\n",
       "      <td>negative</td>\n",
       "      <td>movie</td>\n",
       "    </tr>\n",
       "    <tr>\n",
       "      <th>2</th>\n",
       "      <td>I watched this movie for the first time the ot...</td>\n",
       "      <td>negative</td>\n",
       "      <td>movie</td>\n",
       "    </tr>\n",
       "    <tr>\n",
       "      <th>3</th>\n",
       "      <td>Recipe for one of the worst movies of all time...</td>\n",
       "      <td>negative</td>\n",
       "      <td>movie</td>\n",
       "    </tr>\n",
       "    <tr>\n",
       "      <th>4</th>\n",
       "      <td>Despite the excellent cast, this is an unremar...</td>\n",
       "      <td>negative</td>\n",
       "      <td>movie</td>\n",
       "    </tr>\n",
       "    <tr>\n",
       "      <th>...</th>\n",
       "      <td>...</td>\n",
       "      <td>...</td>\n",
       "      <td>...</td>\n",
       "    </tr>\n",
       "    <tr>\n",
       "      <th>14995</th>\n",
       "      <td>This is another fantasy favorite from Ralph Ba...</td>\n",
       "      <td>positive</td>\n",
       "      <td>movie</td>\n",
       "    </tr>\n",
       "    <tr>\n",
       "      <th>14996</th>\n",
       "      <td>Although I love this movie, I can barely watch...</td>\n",
       "      <td>positive</td>\n",
       "      <td>movie</td>\n",
       "    </tr>\n",
       "    <tr>\n",
       "      <th>14997</th>\n",
       "      <td>Anna (Charlotte Burke), who is just on the ver...</td>\n",
       "      <td>positive</td>\n",
       "      <td>movie</td>\n",
       "    </tr>\n",
       "    <tr>\n",
       "      <th>14998</th>\n",
       "      <td>Ordinarily, Anthony Mann made westerns with 't...</td>\n",
       "      <td>positive</td>\n",
       "      <td>movie</td>\n",
       "    </tr>\n",
       "    <tr>\n",
       "      <th>14999</th>\n",
       "      <td>-Kidnappings in Mexico are as common as honeys...</td>\n",
       "      <td>positive</td>\n",
       "      <td>movie</td>\n",
       "    </tr>\n",
       "  </tbody>\n",
       "</table>\n",
       "<p>15000 rows × 3 columns</p>\n",
       "</div>"
      ],
      "text/plain": [
       "                                                sentence sentiment  topic\n",
       "0      Richard Dreyfuss is, indeed, in this flick, bu...  negative  movie\n",
       "1      By no means is this movie as bad as 'Perfect S...  negative  movie\n",
       "2      I watched this movie for the first time the ot...  negative  movie\n",
       "3      Recipe for one of the worst movies of all time...  negative  movie\n",
       "4      Despite the excellent cast, this is an unremar...  negative  movie\n",
       "...                                                  ...       ...    ...\n",
       "14995  This is another fantasy favorite from Ralph Ba...  positive  movie\n",
       "14996  Although I love this movie, I can barely watch...  positive  movie\n",
       "14997  Anna (Charlotte Burke), who is just on the ver...  positive  movie\n",
       "14998  Ordinarily, Anthony Mann made westerns with 't...  positive  movie\n",
       "14999  -Kidnappings in Mexico are as common as honeys...  positive  movie\n",
       "\n",
       "[15000 rows x 3 columns]"
      ]
     },
     "execution_count": 56,
     "metadata": {},
     "output_type": "execute_result"
    }
   ],
   "source": [
    "balanced_movies"
   ]
  },
  {
   "cell_type": "code",
   "execution_count": 57,
   "id": "3a643823",
   "metadata": {},
   "outputs": [],
   "source": [
    "# Concatenate all three DataFrames\n",
    "df_combined = pd.concat([df_book, df_sports, balanced_movies], ignore_index=True)"
   ]
  },
  {
   "cell_type": "code",
   "execution_count": 58,
   "id": "2b6d9e81",
   "metadata": {},
   "outputs": [
    {
     "data": {
      "text/html": [
       "<div>\n",
       "<style scoped>\n",
       "    .dataframe tbody tr th:only-of-type {\n",
       "        vertical-align: middle;\n",
       "    }\n",
       "\n",
       "    .dataframe tbody tr th {\n",
       "        vertical-align: top;\n",
       "    }\n",
       "\n",
       "    .dataframe thead th {\n",
       "        text-align: right;\n",
       "    }\n",
       "</style>\n",
       "<table border=\"1\" class=\"dataframe\">\n",
       "  <thead>\n",
       "    <tr style=\"text-align: right;\">\n",
       "      <th></th>\n",
       "      <th>sentence</th>\n",
       "      <th>sentiment</th>\n",
       "      <th>topic</th>\n",
       "    </tr>\n",
       "  </thead>\n",
       "  <tbody>\n",
       "    <tr>\n",
       "      <th>0</th>\n",
       "      <td>This book was the very first bookmobile book I...</td>\n",
       "      <td>positive</td>\n",
       "      <td>book</td>\n",
       "    </tr>\n",
       "    <tr>\n",
       "      <th>1</th>\n",
       "      <td>When I read the description for this book, I c...</td>\n",
       "      <td>negative</td>\n",
       "      <td>book</td>\n",
       "    </tr>\n",
       "    <tr>\n",
       "      <th>2</th>\n",
       "      <td>I just had to edit this review. This book is a...</td>\n",
       "      <td>positive</td>\n",
       "      <td>book</td>\n",
       "    </tr>\n",
       "    <tr>\n",
       "      <th>3</th>\n",
       "      <td>I don't normally buy 'mystery' novels because ...</td>\n",
       "      <td>positive</td>\n",
       "      <td>book</td>\n",
       "    </tr>\n",
       "    <tr>\n",
       "      <th>4</th>\n",
       "      <td>This isn't the kind of book I normally read, a...</td>\n",
       "      <td>positive</td>\n",
       "      <td>book</td>\n",
       "    </tr>\n",
       "    <tr>\n",
       "      <th>...</th>\n",
       "      <td>...</td>\n",
       "      <td>...</td>\n",
       "      <td>...</td>\n",
       "    </tr>\n",
       "    <tr>\n",
       "      <th>49519</th>\n",
       "      <td>This is another fantasy favorite from Ralph Ba...</td>\n",
       "      <td>positive</td>\n",
       "      <td>movie</td>\n",
       "    </tr>\n",
       "    <tr>\n",
       "      <th>49520</th>\n",
       "      <td>Although I love this movie, I can barely watch...</td>\n",
       "      <td>positive</td>\n",
       "      <td>movie</td>\n",
       "    </tr>\n",
       "    <tr>\n",
       "      <th>49521</th>\n",
       "      <td>Anna (Charlotte Burke), who is just on the ver...</td>\n",
       "      <td>positive</td>\n",
       "      <td>movie</td>\n",
       "    </tr>\n",
       "    <tr>\n",
       "      <th>49522</th>\n",
       "      <td>Ordinarily, Anthony Mann made westerns with 't...</td>\n",
       "      <td>positive</td>\n",
       "      <td>movie</td>\n",
       "    </tr>\n",
       "    <tr>\n",
       "      <th>49523</th>\n",
       "      <td>-Kidnappings in Mexico are as common as honeys...</td>\n",
       "      <td>positive</td>\n",
       "      <td>movie</td>\n",
       "    </tr>\n",
       "  </tbody>\n",
       "</table>\n",
       "<p>49524 rows × 3 columns</p>\n",
       "</div>"
      ],
      "text/plain": [
       "                                                sentence sentiment  topic\n",
       "0      This book was the very first bookmobile book I...  positive   book\n",
       "1      When I read the description for this book, I c...  negative   book\n",
       "2      I just had to edit this review. This book is a...  positive   book\n",
       "3      I don't normally buy 'mystery' novels because ...  positive   book\n",
       "4      This isn't the kind of book I normally read, a...  positive   book\n",
       "...                                                  ...       ...    ...\n",
       "49519  This is another fantasy favorite from Ralph Ba...  positive  movie\n",
       "49520  Although I love this movie, I can barely watch...  positive  movie\n",
       "49521  Anna (Charlotte Burke), who is just on the ver...  positive  movie\n",
       "49522  Ordinarily, Anthony Mann made westerns with 't...  positive  movie\n",
       "49523  -Kidnappings in Mexico are as common as honeys...  positive  movie\n",
       "\n",
       "[49524 rows x 3 columns]"
      ]
     },
     "execution_count": 58,
     "metadata": {},
     "output_type": "execute_result"
    }
   ],
   "source": [
    "df_combined"
   ]
  },
  {
   "cell_type": "code",
   "execution_count": 59,
   "id": "f539c94c",
   "metadata": {},
   "outputs": [
    {
     "data": {
      "text/plain": [
       "topic\n",
       "sports    22524\n",
       "movie     15000\n",
       "book      12000\n",
       "Name: count, dtype: int64"
      ]
     },
     "execution_count": 59,
     "metadata": {},
     "output_type": "execute_result"
    }
   ],
   "source": [
    "df_combined[\"topic\"].value_counts()"
   ]
  },
  {
   "cell_type": "code",
   "execution_count": 60,
   "id": "c3b28e98",
   "metadata": {},
   "outputs": [
    {
     "data": {
      "text/plain": [
       "sentiment\n",
       "positive    19489\n",
       "neutral     15251\n",
       "negative    14784\n",
       "Name: count, dtype: int64"
      ]
     },
     "execution_count": 60,
     "metadata": {},
     "output_type": "execute_result"
    }
   ],
   "source": [
    "df_combined[\"sentiment\"].value_counts()"
   ]
  },
  {
   "cell_type": "code",
   "execution_count": 61,
   "id": "e5b0580b",
   "metadata": {},
   "outputs": [],
   "source": [
    "# Save the combined DataFrame to a new CSV file\n",
    "df_combined.to_csv(\"train_sets/train.csv\", index=False)"
   ]
  }
 ],
 "metadata": {
  "kernelspec": {
   "display_name": "Python 3",
   "language": "python",
   "name": "python3"
  },
  "language_info": {
   "codemirror_mode": {
    "name": "ipython",
    "version": 3
   },
   "file_extension": ".py",
   "mimetype": "text/x-python",
   "name": "python",
   "nbconvert_exporter": "python",
   "pygments_lexer": "ipython3",
   "version": "3.12.1"
  }
 },
 "nbformat": 4,
 "nbformat_minor": 5
}
